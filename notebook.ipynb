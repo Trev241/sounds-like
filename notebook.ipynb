{
 "cells": [
  {
   "cell_type": "code",
   "execution_count": null,
   "metadata": {},
   "outputs": [],
   "source": [
    "import h5py\n",
    "import pandas as pd\n",
    "\n",
    "from pathlib import Path\n",
    "\n",
    "# Prepare paths\n",
    "RAW_DATA_PATH = Path(\"data/MillionSongSubset\")\n",
    "OUT_DATA_PATH = Path(\"data/tracks.csv\")\n",
    "\n",
    "col_names = []\n",
    "col_names_filled = False\n",
    "rows = []\n",
    "\n",
    "# Extract data\n",
    "for curr_path, _, files in RAW_DATA_PATH.walk():\n",
    "    for file in files[:1]:\n",
    "        with h5py.File(curr_path.joinpath(file)) as f:\n",
    "            values = []\n",
    "            \n",
    "            def populate(name, obj: h5py.Dataset):\n",
    "                global col_names_filled\n",
    "\n",
    "                if not isinstance(obj, h5py.Group):\n",
    "                    if not col_names_filled:\n",
    "                        col_names.append(name)\n",
    "                    values.append(f[name][:])\n",
    "\n",
    "\n",
    "            f.visititems(populate)\n",
    "            rows.append(values)\n",
    "            col_names_filled = True"
   ]
  },
  {
   "cell_type": "code",
   "execution_count": 77,
   "metadata": {},
   "outputs": [],
   "source": [
    "# Create a dataframe and save it\n",
    "df = pd.DataFrame(rows, columns=col_names)\n",
    "df.to_csv(OUT_DATA_PATH)"
   ]
  },
  {
   "cell_type": "code",
   "execution_count": 81,
   "metadata": {},
   "outputs": [
    {
     "name": "stdout",
     "output_type": "stream",
     "text": [
      "                            analysis/bars_confidence  \\\n",
      "0  [0.643, 0.746, 0.722, 0.095, 0.091, 0.362, 0.4...   \n",
      "\n",
      "                                 analysis/bars_start  \\\n",
      "0  [0.58521, 2.94247, 5.14371, 7.74554, 10.36149,...   \n",
      "\n",
      "                           analysis/beats_confidence  \\\n",
      "0  [0.834, 0.851, 0.65, 0.635, 0.532, 0.753, 0.62...   \n",
      "\n",
      "                                analysis/beats_start  \\\n",
      "0  [0.58521, 1.19196, 1.78893, 2.37813, 2.94247, ...   \n",
      "\n",
      "                        analysis/sections_confidence  \\\n",
      "0  [1.0, 1.0, 0.218, 0.133, 0.384, 0.326, 0.373, ...   \n",
      "\n",
      "                             analysis/sections_start  \\\n",
      "0  [0.0, 7.74554, 36.44331, 43.61667, 75.17954, 9...   \n",
      "\n",
      "                        analysis/segments_confidence  \\\n",
      "0  [0.0, 1.0, 0.483, 0.137, 0.42, 1.0, 0.257, 1.0...   \n",
      "\n",
      "                      analysis/segments_loudness_max  \\\n",
      "0  [-60.0, -31.646, -34.565, -38.407, -34.696, -2...   \n",
      "\n",
      "                 analysis/segments_loudness_max_time  \\\n",
      "0  [0.0, 0.10929, 0.11044, 0.0844, 0.05898, 0.073...   \n",
      "\n",
      "                    analysis/segments_loudness_start  ...  \\\n",
      "0  [-60.0, -60.0, -40.84, -40.401, -38.456, -39.6...  ...   \n",
      "\n",
      "                          analysis/tatums_confidence  \\\n",
      "0  [0.779, 0.734, 0.674, 0.637, 0.597, 0.532, 0.4...   \n",
      "\n",
      "                               analysis/tatums_start  \\\n",
      "0  [0.28519, 0.58521, 0.89422, 1.19196, 1.49119, ...   \n",
      "\n",
      "                               metadata/artist_terms  \\\n",
      "0  [b'hip hop', b'underground rap', b'g funk', b'...   \n",
      "\n",
      "                          metadata/artist_terms_freq  \\\n",
      "0  [1.0, 0.7761362332679642, 0.7296697949672141, ...   \n",
      "\n",
      "                        metadata/artist_terms_weight  \\\n",
      "0  [1.0, 0.8979359555142553, 0.8842618474718359, ...   \n",
      "\n",
      "                            metadata/similar_artists  \\\n",
      "0  [b'ARV4KO21187FB38008', b'ARWHM281187FB3D381',...   \n",
      "\n",
      "                                      metadata/songs  \\\n",
      "0  [[b'', 165270, 0.5817937658450281, 0.401997543...   \n",
      "\n",
      "  musicbrainz/artist_mbtags musicbrainz/artist_mbtags_count musicbrainz/songs  \n",
      "0                        []                              []          [[0, 0]]  \n",
      "\n",
      "[1 rows x 24 columns]\n"
     ]
    }
   ],
   "source": [
    "print(df.head(1))"
   ]
  }
 ],
 "metadata": {
  "kernelspec": {
   "display_name": "Python 3",
   "language": "python",
   "name": "python3"
  },
  "language_info": {
   "codemirror_mode": {
    "name": "ipython",
    "version": 3
   },
   "file_extension": ".py",
   "mimetype": "text/x-python",
   "name": "python",
   "nbconvert_exporter": "python",
   "pygments_lexer": "ipython3",
   "version": "3.12.1"
  }
 },
 "nbformat": 4,
 "nbformat_minor": 2
}
