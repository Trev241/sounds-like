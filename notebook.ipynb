{
 "cells": [
  {
   "cell_type": "markdown",
   "metadata": {},
   "source": [
    "# Sounds Like\n",
    "Find a song that sounds like something you would love to listen to"
   ]
  },
  {
   "cell_type": "code",
   "execution_count": null,
   "metadata": {},
   "outputs": [],
   "source": [
    "import os\n",
    "import math\n",
    "import pandas as pd\n",
    "import matplotlib.pyplot as plt\n",
    "import requests\n",
    "import zipfile\n",
    "import tarfile\n",
    "import torch\n",
    "import torch.nn.functional as F\n",
    "\n",
    "from torch import nn, optim\n",
    "from sklearn.preprocessing import StandardScaler, OneHotEncoder\n",
    "from utils.converter import h5_to_dict\n",
    "from pathlib import Path\n",
    "from random import randint"
   ]
  },
  {
   "cell_type": "code",
   "execution_count": null,
   "metadata": {},
   "outputs": [],
   "source": [
    "# Create the data directory\n",
    "Path.mkdir(Path(\"data\"), exist_ok=True)"
   ]
  },
  {
   "cell_type": "code",
   "execution_count": null,
   "metadata": {},
   "outputs": [],
   "source": [
    "OUTPUT_CSV_PATH = \"data/songs.csv\"\n",
    "INPUT_FILE_PATH = \"data/MillionSongSubset\""
   ]
  },
  {
   "cell_type": "markdown",
   "metadata": {},
   "source": [
    "## Download resources\n",
    "\n",
    "You will need to download all of these resources before you can continue. Altogether, you will need at most 4 GB of storage available. If you prefer not doing it yourself, the next cell after this will automatically download and extract everything. However, it will take noticeably longer to uncompress the data.\n",
    "\n",
    "1. [Million Song Subset](http://labrosa.ee.columbia.edu/~dpwe/tmp/millionsongsubset.tar.gz\")\n",
    "2. [Sample Track](http://millionsongdataset.com/sites/default/files/AdditionalFiles/TRAXLZU12903D05F94.h5)\n",
    "3. [Taste Profile](http://labrosa.ee.columbia.edu/~dpwe/tmp/train_triplets.txt.zip)\n",
    "4. [Mismatched tracks](http://millionsongdataset.com/sites/default/files/tasteprofile/sid_mismatches.txt)\n",
    "\n",
    "Running the cell below will **override any existing resources in the data folder**."
   ]
  },
  {
   "cell_type": "code",
   "execution_count": null,
   "metadata": {},
   "outputs": [],
   "source": [
    "RESOURCES = [\n",
    "    \"http://millionsongdataset.com/sites/default/files/tasteprofile/sid_mismatches.txt\",\n",
    "    \"http://labrosa.ee.columbia.edu/~dpwe/tmp/train_triplets.txt.zip\",\n",
    "    \"http://labrosa.ee.columbia.edu/~dpwe/tmp/millionsongsubset.tar.gz\",\n",
    "    \"http://millionsongdataset.com/sites/default/files/AdditionalFiles/TRAXLZU12903D05F94.h5\",\n",
    "    \"http://millionsongdataset.com/sites/default/files/thisismyjam/jam_to_msd.tsv\",\n",
    "    \"https://archive.org/download/thisismyjam-datadump/thisismyjam-datadump.zip\"\n",
    "]\n",
    "\n",
    "files_downloaded = 0\n",
    "\n",
    "for resource in RESOURCES:\n",
    "    # Download all resources\n",
    "    local_filename = resource[resource.rindex(\"/\") + 1:]\n",
    "\n",
    "    try:\n",
    "        with requests.get(resource, stream=True) as r:\n",
    "            r.raise_for_status()\n",
    "\n",
    "            with open(f\"data/{local_filename}\", \"wb\") as f:\n",
    "                for chunk in r.iter_content(chunk_size=8192):\n",
    "                    f.write(chunk)\n",
    "        \n",
    "        files_downloaded += 1\n",
    "    except Exception as e:\n",
    "        print(f\"Failed to download resource - {resource}.\\nError: {e}\\nDO NOT PROCEED TO THE NEXT CELL.\")\n",
    "        break\n",
    "\n",
    "print(f\"{files_downloaded} of {len(RESOURCES)} resources(s) downloaded\")\n",
    "\n",
    "if files_downloaded == len(RESOURCES):\n",
    "    # Extract compressed resources\n",
    "    with tarfile.open(\"data/millionsongsubset.tar.gz\", \"r:gz\") as tar:\n",
    "        tar.extractall(\"data/\")\n",
    "    with zipfile.ZipFile(\"data/train_triplets.txt.zip\", \"r\") as zip:\n",
    "        zip.extractall(\"data/\")\n",
    "    with zipfile.ZipFile(\"data/thisismyjam-datadump.zip\", \"r\") as zip:\n",
    "        zip.extractall(\"data/\")\n",
    "    \n",
    "    # Delete the zip files\n",
    "    os.remove(\"data/millionsongsubset.tar.gz\")\n",
    "    os.remove(\"data/train_triplets.txt.zip\")\n",
    "    os.remove(\"data/thisismyjam-datadump.zip\")\n",
    "    \n",
    "    print(\"Done. All data uncompressed successfully.\")"
   ]
  },
  {
   "cell_type": "markdown",
   "metadata": {},
   "source": [
    "## Import data\n",
    "If you already have the song dataset ready as a pandas dataframe, then you can skip Cell 4 and start executing from Cell 5 to import your data. If you do not have a pandas dataframe containing your songs yet, you must run Cell 4 if you need to convert the HDF5 files in the MillionSong dataset into a pandas dataframe."
   ]
  },
  {
   "cell_type": "code",
   "execution_count": null,
   "metadata": {},
   "outputs": [],
   "source": [
    "# RUN !!ONLY!! THIS (AND NOT THE CELL BELOW) IF songs.csv DOES NOT EXIST in your data/ folder\n",
    "# This will take approximately 10 minutes for 10,000 records.\n",
    "rows = []\n",
    "\n",
    "for root, _, files in os.walk(INPUT_FILE_PATH):\n",
    "\tfor file in files:\n",
    "\t\th5_path = os.path.join(root, file)\n",
    "\t\ttry:\n",
    "\t\t\tsong_data = h5_to_dict(h5_path)\n",
    "\t\t\trows.append(song_data)\n",
    "\t\texcept Exception as e :\n",
    "\t\t\tprint(f\"Error loading file {file}: {e}\")\n",
    "\n",
    "df = pd.DataFrame(rows)\n",
    "df.to_csv(OUTPUT_CSV_PATH , index=False)\n",
    "\n",
    "print(f\"CSV created: {OUTPUT_CSV_PATH}\")"
   ]
  },
  {
   "cell_type": "code",
   "execution_count": null,
   "metadata": {},
   "outputs": [],
   "source": [
    "# RUN !!ONLY!! THIS (AND NOT THE CELL ABOVE) IF songs.csv ALREADY EXISTS IN YOUR data/ folder\n",
    "df = pd.read_csv(\"data/songs.csv\")\n",
    "df.head(10)"
   ]
  },
  {
   "cell_type": "markdown",
   "metadata": {},
   "source": [
    "## Transform Taste Profile Subset\n",
    "\n",
    "In order to create vector embeddings for our tracks, we will have to first transform the taste profile subset such that it contains the top 5 tracks of each user."
   ]
  },
  {
   "cell_type": "code",
   "execution_count": null,
   "metadata": {},
   "outputs": [],
   "source": [
    "# Reshape Taste Profile subset\n",
    "temp_df = pd.read_csv(\n",
    "    \"data/train_triplets.txt\",\n",
    "    delimiter=\"\\t\",\n",
    "    names=[\"user_id\", \"song_id\", \"play_count\"],\n",
    ")\n",
    "temp_df = temp_df.sort_values(by=[\"user_id\", \"play_count\"], ascending=[True, False])\n",
    "\n",
    "# Only use a subset of the data\n",
    "temp_df = temp_df.head(math.floor(len(temp_df.index) * 0.25))\n",
    "temp_df.head()"
   ]
  },
  {
   "cell_type": "code",
   "execution_count": null,
   "metadata": {},
   "outputs": [],
   "source": [
    "# Only use a subset of the data\n",
    "temp_df = temp_df.head(math.floor(len(temp_df.index) * 0.01))\n",
    "temp_df.head()\n",
    "\n",
    "# Assign an index to every unique song in the list\n",
    "codes, unique = pd.factorize(temp_df[\"song_id\"])\n",
    "temp_df[\"song_id_coded\"] = pd.to_numeric(codes)\n",
    "\n",
    "# Get some useful stats\n",
    "num_songs = len(unique)\n",
    "num_users = len(temp_df[\"user_id\"].value_counts().keys())\n",
    "\n",
    "# Find top 5 songs\n",
    "limit = 5\n",
    "\n",
    "track_cols = [f\"track_{i}_coded\" for i in range(1, limit + 1)]\n",
    "top_songs = temp_df.groupby(\"user_id\").head(limit)\n",
    "taste_profile_df = (\n",
    "    top_songs.groupby(\"user_id\")[\"song_id_coded\"].apply(list).reset_index()\n",
    ")\n",
    "taste_profile_df.columns = [\"user\", f\"top_{limit}_song_id_coded\"]\n",
    "taste_profile_df[[f\"track_{i}_coded\" for i in range(1, limit + 1)]] = pd.DataFrame(\n",
    "    taste_profile_df[f\"top_{limit}_song_id_coded\"].to_list(), index=taste_profile_df.index\n",
    ")\n",
    "\n",
    "print(f\"There are {num_songs} songs and {num_users} users in our selection.\")\n",
    "\n",
    "taste_profile_df.to_csv(\"data/taste_profile.csv\", index=False)\n",
    "taste_profile_df.head(10)"
   ]
  },
  {
   "cell_type": "markdown",
   "metadata": {},
   "source": [
    "# Some basics in pandas and numpy\n",
    "\n",
    "Reshaping matrices or arrays allows you to modify its dimensions.\n",
    "\n",
    "If you need to produce a dataframe with only one feature then the best way to do it is `df[[\"feature\"]]`. You can also use the same method to generate a dataframe with a subset of its original columns. Simply enter the columns you wish to select in the list like `df[[\"feature_1\", \"feature_2\"]]`. The numpy equivalent of this is `np.reshape(df, (-1, 1))`. However, the disadvantage of using numpy is that the feature's names are not preserved."
   ]
  },
  {
   "cell_type": "code",
   "execution_count": null,
   "metadata": {},
   "outputs": [],
   "source": [
    "print(df.columns)"
   ]
  },
  {
   "cell_type": "code",
   "execution_count": null,
   "metadata": {},
   "outputs": [],
   "source": [
    "plt.hist(df[\"analysis/songs/tempo\"])"
   ]
  },
  {
   "cell_type": "code",
   "execution_count": null,
   "metadata": {},
   "outputs": [],
   "source": [
    "plt.hist(df[\"analysis/songs/loudness\"])"
   ]
  },
  {
   "cell_type": "markdown",
   "metadata": {},
   "source": [
    "## Key\n",
    "The key of the song where 0 represents C, 1 represents D and so on.\n",
    "\n",
    "[Ref.](https://stackoverflow.com/questions/32202589/pyechonest-how-to-interpret-key-and-mode-attributes)"
   ]
  },
  {
   "cell_type": "code",
   "execution_count": null,
   "metadata": {},
   "outputs": [],
   "source": [
    "plt.hist(df[\"analysis/songs/key\"])"
   ]
  },
  {
   "cell_type": "code",
   "execution_count": null,
   "metadata": {},
   "outputs": [],
   "source": [
    "plt.hist(df[\"analysis/songs/duration\"])"
   ]
  },
  {
   "cell_type": "markdown",
   "metadata": {},
   "source": [
    "## Mode\n",
    "Indicates if the track is in the major key or minor key. In other words, a track is said to be in C Major if its key is 0 and its mode is 1.\n",
    "\n",
    "[Ref.](https://stackoverflow.com/questions/32202589/pyechonest-how-to-interpret-key-and-mode-attributes)"
   ]
  },
  {
   "cell_type": "code",
   "execution_count": null,
   "metadata": {},
   "outputs": [],
   "source": [
    "plt.hist(df[\"analysis/songs/mode\"])"
   ]
  },
  {
   "cell_type": "code",
   "execution_count": null,
   "metadata": {},
   "outputs": [],
   "source": [
    "plt.hist(df[\"analysis/songs/time_signature\"])"
   ]
  },
  {
   "cell_type": "markdown",
   "metadata": {},
   "source": [
    "## One Hot Encoding\n",
    "As it currently stands, some categorical features exist in numerical formats which can cause the model to infer incorrect relationships. Taking key as an example, the model should not assume that there is some kind of increasing relationship from one key to the next but rather treat each key individually as separate features. Making multiple features for each key can be computationally expensive which is why we opt to create one-hot-encodings instead.\n",
    "\n",
    "[Learn more](https://developers.google.com/machine-learning/crash-course/categorical-data/one-hot-encoding)"
   ]
  },
  {
   "cell_type": "code",
   "execution_count": null,
   "metadata": {},
   "outputs": [],
   "source": [
    "# Create one-hot encoding vectors\n",
    "encoder = OneHotEncoder(sparse_output=False)\n",
    "encoder.set_output(transform=\"pandas\")\n",
    "\n",
    "df_encoded_keys = encoder.fit_transform(df[[\"analysis/songs/key\"]])\n",
    "df_encoded_mode = encoder.fit_transform(df[[\"analysis/songs/mode\"]])\n",
    "\n",
    "df = pd.concat([df, df_encoded_keys, df_encoded_mode], axis=1)"
   ]
  },
  {
   "cell_type": "markdown",
   "metadata": {},
   "source": [
    "## Normalization\n",
    "\n",
    "Some features need to be normalized to a common range to improve the model. Most features with an even distribution will be normalized using the Standard Scaler (Z-score distribution).\n",
    "\n",
    "[Learn more](https://developers.google.com/machine-learning/crash-course/numerical-data/normalization)"
   ]
  },
  {
   "cell_type": "code",
   "execution_count": null,
   "metadata": {},
   "outputs": [],
   "source": [
    "# Apply the StandardScaler to normalize datapoints in the tempo column using Z-score distribution\n",
    "scaler = StandardScaler()\n",
    "\n",
    "df[\"analysis/songs/tempo\"] = scaler.fit_transform(df[[\"analysis/songs/tempo\"]])\n",
    "df[\"analysis/songs/loudness\"] = scaler.fit_transform(df[[\"analysis/songs/loudness\"]])\n",
    "df[\"analysis/songs/duration\"] = scaler.fit_transform(df[[\"analysis/songs/duration\"]])"
   ]
  },
  {
   "cell_type": "code",
   "execution_count": null,
   "metadata": {},
   "outputs": [],
   "source": [
    "plt.hist(df[\"analysis/songs/tempo\"])"
   ]
  },
  {
   "cell_type": "code",
   "execution_count": null,
   "metadata": {},
   "outputs": [],
   "source": [
    "plt.hist(df[\"analysis/songs/loudness\"])"
   ]
  },
  {
   "cell_type": "code",
   "execution_count": null,
   "metadata": {},
   "outputs": [],
   "source": [
    "plt.hist(df[\"analysis/songs/duration\"])"
   ]
  },
  {
   "cell_type": "markdown",
   "metadata": {},
   "source": [
    "## The Neural Network\n",
    "\n",
    "In order to make good predictions of what a user might listen to, we ought to select the most appropriate model for the task. The best way to approach this problem would be to create embeddings for each song in the taste profile subset. To do this, we can select the top 5 songs of each user and then use the top 4 songs as features to predict the 5th song. This allows us to approach the problem as a supervised classification problem. By handling it this way, the model can learn latent features for each song as it tries to understand the relationship between the top 5 songs for each individual user. When we make the 5th song the objective of the learning, the model will try to create embeddings the first four songs and tries to understand their relationship. This should in theory correctly place similar songs closer together in the embedding space. The final output of the model would be a vector of probabilities representing the user's odds to interact with each item.\n",
    "\n",
    "There are over 300,000 songs when you consider the whole dataset. This would be too large to represent using one-hot encodings since this would create very sparse input vectors of the order of 300,000 times the number of users. Instead, it would be more appropriate to give each song a label and allow the model to create lower dimensional embeddings to represent each song.\n",
    "\n",
    "[Ref.](https://discuss.pytorch.org/t/what-kind-of-loss-is-better-to-use-in-multilabel-classification/32203/3)"
   ]
  },
  {
   "cell_type": "markdown",
   "metadata": {},
   "source": [
    "### Creating targets\n",
    "\n",
    "There are two ways of defining our model's objective. One method is to train the model to predict exactly the 5th song while the other alternative is to ensure that it predicts the correct odds of the user interacting with not only the 5th song but also the original 4. For this reason, we have two variants of the target - one being a one hot encoding of the 5th track and the other a multi hot encoding of all 5 tracks."
   ]
  },
  {
   "cell_type": "code",
   "execution_count": null,
   "metadata": {},
   "outputs": [],
   "source": [
    "# Creating target tensors for training the model\n",
    "# Single-label targets where we try to predict the last track in the user's list of top n tracks\n",
    "target_s = F.one_hot(\n",
    "    torch.tensor(taste_profile_df[f\"track_{len(track_cols)}_coded\"].to_numpy()),\n",
    "    num_classes=num_songs,\n",
    ").type(torch.float32)\n",
    "\n",
    "# Multi-label targets where we try to predict all of the user's top n tracks\n",
    "tracks = torch.tensor(taste_profile_df[track_cols].to_numpy())\n",
    "\n",
    "# Creates a matrix filled with zeroes of the size (num_users x num_songs),\n",
    "# then fills it in with 1s based on the indices given in tracks.\n",
    "# THIS WILL ONLY WORK CORRECTLY IF THE SONGS ARE ENCODED STRICTLY FROM 0 TO num_songs - 1\n",
    "target_m = torch.zeros(num_users, num_songs).scatter_(1, tracks, 1.0)\n",
    "\n",
    "model_input = torch.tensor(taste_profile_df[track_cols[:-1]].to_numpy())"
   ]
  },
  {
   "cell_type": "code",
   "execution_count": null,
   "metadata": {},
   "outputs": [],
   "source": [
    "passes = 0\n",
    "num_tests = 10000\n",
    "for idx in range(num_tests):\n",
    "    # Select a random user and a random song\n",
    "    x = randint(0, num_users - 1)\n",
    "    y = randint(0, num_songs - 1)\n",
    "    z = randint(1, len(track_cols))\n",
    "\n",
    "    # Expect 1 if the randomly selected user has the randomy selected song in their top 5\n",
    "    expected_s = (\n",
    "        1 if taste_profile_df.iloc[x][f\"track_{len(track_cols)}_coded\"] == y else 0\n",
    "    )\n",
    "    # At the same time, find out what song the randomly selected user actually likes\n",
    "    song_id_s = taste_profile_df.iloc[x][f\"track_{len(track_cols)}_coded\"]\n",
    "    song_id_m = taste_profile_df.iloc[x][f\"track_{z}_coded\"]\n",
    "\n",
    "    cond_expected_s = (\n",
    "        target_s[x][y].item() == expected_s and target_s[x][song_id_s].item() == 1\n",
    "    )\n",
    "    cond_expected_m = target_m[x][song_id_m].item() == 1\n",
    "\n",
    "    if cond_expected_s:\n",
    "        passes += 1\n",
    "\n",
    "print(f\"{passes} of {num_tests} tests passed.\")\n",
    "if passes < num_tests:\n",
    "    print(\"Do not proceed with training.\")"
   ]
  },
  {
   "cell_type": "code",
   "execution_count": null,
   "metadata": {},
   "outputs": [],
   "source": [
    "device = (\n",
    "    torch.accelerator.current_accelerator().type\n",
    "    if torch.accelerator.is_available()\n",
    "    else \"cpu\"\n",
    ")\n",
    "print(f\"Using {device} device\")"
   ]
  },
  {
   "cell_type": "code",
   "execution_count": null,
   "metadata": {},
   "outputs": [],
   "source": [
    "input_len = 4   # The number of favourite songs considered as input for each user\n",
    "embedding_dim = 3"
   ]
  },
  {
   "cell_type": "code",
   "execution_count": 529,
   "metadata": {},
   "outputs": [],
   "source": [
    "class RecommendationModel(nn.Module):\n",
    "    def __init__(self, num_songs, embedding_dim):\n",
    "        super().__init__()\n",
    "        self.embedding = nn.Embedding(num_songs, embedding_dim)\n",
    "        self.fc1 = nn.Linear(embedding_dim, 12)\n",
    "        self.relu = nn.ReLU()\n",
    "        self.fc2 = nn.Linear(12, 12)\n",
    "        self.fc3 = nn.Linear(12, num_songs)\n",
    "    \n",
    "    def forward(self, x):\n",
    "        x = self.embedding(x)\n",
    "        # x = x.mean(dim=1)\n",
    "        x = x.max(dim=1)[0]\n",
    "        x = self.fc1(x)\n",
    "        x = self.relu(x)\n",
    "        x = self.fc2(x)\n",
    "        x = self.relu(x)\n",
    "        x = self.fc3(x)\n",
    "        return x\n",
    "    \n",
    "model = RecommendationModel(num_songs, embedding_dim)"
   ]
  },
  {
   "cell_type": "code",
   "execution_count": 530,
   "metadata": {},
   "outputs": [],
   "source": [
    "loss_fn = nn.BCEWithLogitsLoss()\n",
    "lr = 0.001\n",
    "optimizer = optim.Adam(model.parameters(), lr=lr)"
   ]
  },
  {
   "cell_type": "code",
   "execution_count": 531,
   "metadata": {},
   "outputs": [
    {
     "data": {
      "text/plain": [
       "[<matplotlib.lines.Line2D at 0x1ddee932ab0>]"
      ]
     },
     "execution_count": 531,
     "metadata": {},
     "output_type": "execute_result"
    },
    {
     "data": {
      "image/png": "[encoded data removed]",
      "text/plain": [
       "<Figure size 640x480 with 1 Axes>"
      ]
     },
     "metadata": {},
     "output_type": "display_data"
    }
   ],
   "source": [
    "n_epochs = 200\n",
    "batch_size = 10\n",
    "loss_vals = []\n",
    "\n",
    "for epoch in range(n_epochs):\n",
    "    for i in range(0, len(model_input), batch_size):\n",
    "        batch = model_input[i:i + batch_size]\n",
    "        y_pred = model(batch)\n",
    "        y_batch = target_m[i: i + batch_size]\n",
    "        loss = loss_fn(y_pred, y_batch)\n",
    "        optimizer.zero_grad()\n",
    "        loss.backward()\n",
    "        optimizer.step()\n",
    "    loss_vals.append(loss.item())\n",
    "\n",
    "plt.plot([e + 1 for e in range(n_epochs)], loss_vals)"
   ]
  },
  {
   "cell_type": "code",
   "execution_count": 561,
   "metadata": {},
   "outputs": [],
   "source": [
    "# Enter 4 songs as input. They must be encoded between 0 and num_songs - 1\n",
    "profile = [56, 57, 59, 58]\n",
    "logits = model(torch.tensor([profile]))\n",
    "probabilities = F.softmax(logits, dim=1)"
   ]
  },
  {
   "cell_type": "code",
   "execution_count": 562,
   "metadata": {},
   "outputs": [
    {
     "data": {
      "text/plain": [
       "torch.return_types.topk(\n",
       "values=tensor([[0.1811, 0.1381, 0.1165, 0.0392, 0.0388, 0.0382, 0.0369, 0.0327, 0.0181,\n",
       "         0.0160]], grad_fn=<TopkBackward0>),\n",
       "indices=tensor([[   56,    57,    58,  8964,  8969, 41632, 23219, 41633,  7986, 42481]]))"
      ]
     },
     "execution_count": 562,
     "metadata": {},
     "output_type": "execute_result"
    }
   ],
   "source": [
    "# Returns the top 5 songs that the user is likely to interact with.\n",
    "torch.topk(probabilities, 10)"
   ]
  }
 ],
 "metadata": {
  "kernelspec": {
   "display_name": "Python 3",
   "language": "python",
   "name": "python3"
  },
  "language_info": {
   "codemirror_mode": {
    "name": "ipython",
    "version": 3
   },
   "file_extension": ".py",
   "mimetype": "text/x-python",
   "name": "python",
   "nbconvert_exporter": "python",
   "pygments_lexer": "ipython3",
   "version": "3.12.1"
  }
 },
 "nbformat": 4,
 "nbformat_minor": 2
}
