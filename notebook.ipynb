{
 "cells": [
  {
   "cell_type": "code",
   "execution_count": 29,
   "metadata": {},
   "outputs": [],
   "source": [
    "import pandas as pd\n",
    "import os\n",
    "\n",
    "from utils.converter import h5_to_dict"
   ]
  },
  {
   "cell_type": "code",
   "execution_count": 30,
   "metadata": {},
   "outputs": [],
   "source": [
    "OUTPUT_CSV_PATH = \"data/songs.csv\"\n",
    "INPUT_FILE_PATH = \"data/MillionSongSubset\""
   ]
  },
  {
   "cell_type": "code",
   "execution_count": null,
   "metadata": {},
   "outputs": [
    {
     "name": "stdout",
     "output_type": "stream",
     "text": [
      "CSV created: data/songs.csv\n"
     ]
    }
   ],
   "source": [
    "rows = []\n",
    "\n",
    "h5_to_dict(\"data/TRAXLZU12903D05F94.h5\")\n",
    "\n",
    "for root, _, files in os.walk(INPUT_FILE_PATH):\n",
    "\tfor file in files:\n",
    "\t\th5_path = os.path.join(root, file)\n",
    "\t\ttry:\n",
    "\t\t\tsong_data = h5_to_dict(h5_path)\n",
    "\t\t\trows.append(song_data)\n",
    "\t\texcept Exception as e :\n",
    "\t\t\tprint(f\"Error loading file {file}: {e}\")\n",
    "\n",
    "df = pd.DataFrame(rows)\n",
    "df.to_csv(OUTPUT_CSV_PATH , index=False)\n",
    "\n",
    "print(f\"CSV created: {OUTPUT_CSV_PATH}\")"
   ]
  },
  {
   "cell_type": "code",
   "execution_count": 32,
   "metadata": {},
   "outputs": [
    {
     "name": "stdout",
     "output_type": "stream",
     "text": [
      "                            analysis/bars_confidence  \\\n",
      "0  [0.643, 0.746, 0.722, 0.095, 0.091, 0.362, 0.4...   \n",
      "\n",
      "                                 analysis/bars_start  \\\n",
      "0  [0.58521, 2.94247, 5.14371, 7.74554, 10.36149,...   \n",
      "\n",
      "                           analysis/beats_confidence  \\\n",
      "0  [0.834, 0.851, 0.65, 0.635, 0.532, 0.753, 0.62...   \n",
      "\n",
      "                                analysis/beats_start  \\\n",
      "0  [0.58521, 1.19196, 1.78893, 2.37813, 2.94247, ...   \n",
      "\n",
      "                        analysis/sections_confidence  \\\n",
      "0  [1.0, 1.0, 0.218, 0.133, 0.384, 0.326, 0.373, ...   \n",
      "\n",
      "                             analysis/sections_start  \\\n",
      "0  [0.0, 7.74554, 36.44331, 43.61667, 75.17954, 9...   \n",
      "\n",
      "                        analysis/segments_confidence  \\\n",
      "0  [0.0, 1.0, 0.483, 0.137, 0.42, 1.0, 0.257, 1.0...   \n",
      "\n",
      "                      analysis/segments_loudness_max  \\\n",
      "0  [-60.0, -31.646, -34.565, -38.407, -34.696, -2...   \n",
      "\n",
      "                 analysis/segments_loudness_max_time  \\\n",
      "0  [0.0, 0.10929, 0.11044, 0.0844, 0.05898, 0.073...   \n",
      "\n",
      "                    analysis/segments_loudness_start  ...  \\\n",
      "0  [-60.0, -60.0, -40.84, -40.401, -38.456, -39.6...  ...   \n",
      "\n",
      "  metadata/songs/artist_id metadata/songs/artist_latitude  \\\n",
      "0       ARD7TVE1187B99BFB1                            NaN   \n",
      "\n",
      "  metadata/songs/artist_location  metadata/songs/artist_longitude  \\\n",
      "0                California - LA                              NaN   \n",
      "\n",
      "             metadata/songs/artist_mbid  metadata/songs/artist_name  \\\n",
      "0  e77e51a5-4761-45b3-9847-2051f811e366                      Casual   \n",
      "\n",
      "   musicbrainz/artist_mbtags  musicbrainz/artist_mbtags_count  \\\n",
      "0                         []                               []   \n",
      "\n",
      "   musicbrainz/songs/idx_artist_mbtags  musicbrainz/songs/year  \n",
      "0                                    0                       0  \n",
      "\n",
      "[1 rows x 74 columns]\n"
     ]
    }
   ],
   "source": [
    "print(df.head(1))"
   ]
  }
 ],
 "metadata": {
  "kernelspec": {
   "display_name": "Python 3",
   "language": "python",
   "name": "python3"
  },
  "language_info": {
   "codemirror_mode": {
    "name": "ipython",
    "version": 3
   },
   "file_extension": ".py",
   "mimetype": "text/x-python",
   "name": "python",
   "nbconvert_exporter": "python",
   "pygments_lexer": "ipython3",
   "version": "3.12.1"
  }
 },
 "nbformat": 4,
 "nbformat_minor": 2
}
