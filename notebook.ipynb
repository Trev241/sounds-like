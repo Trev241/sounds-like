{
 "cells": [
  {
   "cell_type": "markdown",
   "metadata": {},
   "source": [
    "# Sounds Like\n",
    "Find a song that sounds like something you would love to listen to"
   ]
  },
  {
   "cell_type": "code",
   "execution_count": 1,
   "metadata": {},
   "outputs": [],
   "source": [
    "import os\n",
    "import pandas as pd\n",
    "import matplotlib.pyplot as plt\n",
    "import requests\n",
    "import zipfile\n",
    "import tarfile\n",
    "\n",
    "from sklearn.preprocessing import StandardScaler, OneHotEncoder\n",
    "from utils.converter import h5_to_dict\n",
    "from pathlib import Path"
   ]
  },
  {
   "cell_type": "code",
   "execution_count": 2,
   "metadata": {},
   "outputs": [],
   "source": [
    "# Create the data directory\n",
    "Path.mkdir(Path(\"data\"), exist_ok=True)"
   ]
  },
  {
   "cell_type": "code",
   "execution_count": 3,
   "metadata": {},
   "outputs": [],
   "source": [
    "OUTPUT_CSV_PATH = \"data/songs.csv\"\n",
    "INPUT_FILE_PATH = \"data/MillionSongSubset\""
   ]
  },
  {
   "cell_type": "markdown",
   "metadata": {},
   "source": [
    "## Download resources\n",
    "\n",
    "You will need to download all of these resources before you can continue. Altogether, you will need at most 4 GB of storage available. If you prefer not doing it yourself, the next cell after this will automatically download and extract everything. However, it will take noticeably longer to uncompress the data.\n",
    "\n",
    "1. [Million Song Subset](http://labrosa.ee.columbia.edu/~dpwe/tmp/millionsongsubset.tar.gz\")\n",
    "2. [Sample Track](http://millionsongdataset.com/sites/default/files/AdditionalFiles/TRAXLZU12903D05F94.h5)\n",
    "3. [Taste Profile](http://labrosa.ee.columbia.edu/~dpwe/tmp/train_triplets.txt.zip)\n",
    "4. [Mismatched tracks](http://millionsongdataset.com/sites/default/files/tasteprofile/sid_mismatches.txt)\n",
    "\n",
    "Running the cell below will **override any existing resources in the data folder**."
   ]
  },
  {
   "cell_type": "code",
   "execution_count": null,
   "metadata": {},
   "outputs": [
    {
     "name": "stdout",
     "output_type": "stream",
     "text": [
      "4 of 4 resources(s) downloaded\n"
     ]
    }
   ],
   "source": [
    "RESOURCES = [\n",
    "    \"http://millionsongdataset.com/sites/default/files/tasteprofile/sid_mismatches.txt\",\n",
    "    \"http://labrosa.ee.columbia.edu/~dpwe/tmp/train_triplets.txt.zip\",\n",
    "    \"http://labrosa.ee.columbia.edu/~dpwe/tmp/millionsongsubset.tar.gz\",\n",
    "    \"http://millionsongdataset.com/sites/default/files/AdditionalFiles/TRAXLZU12903D05F94.h5\",\n",
    "    \"http://millionsongdataset.com/sites/default/files/thisismyjam/jam_to_msd.tsv\",\n",
    "    \"https://archive.org/download/thisismyjam-datadump/thisismyjam-datadump.zip\"\n",
    "]\n",
    "\n",
    "files_downloaded = 0\n",
    "\n",
    "for resource in RESOURCES:\n",
    "    # Download all resources\n",
    "    local_filename = resource[resource.rindex(\"/\") + 1:]\n",
    "\n",
    "    try:\n",
    "        with requests.get(resource, stream=True) as r:\n",
    "            r.raise_for_status()\n",
    "\n",
    "            with open(f\"data/{local_filename}\", \"wb\") as f:\n",
    "                for chunk in r.iter_content(chunk_size=8192):\n",
    "                    f.write(chunk)\n",
    "        \n",
    "        files_downloaded += 1\n",
    "    except Exception as e:\n",
    "        print(f\"Failed to download resource - {resource}.\\nError: {e}\\nDO NOT PROCEED TO THE NEXT CELL.\")\n",
    "        break\n",
    "\n",
    "print(f\"{files_downloaded} of {len(RESOURCES)} resources(s) downloaded\")\n",
    "\n",
    "if files_downloaded == len(RESOURCES):\n",
    "    # Extract compressed resources\n",
    "    with tarfile.open(\"data/millionsongsubset.tar.gz\", \"r:gz\") as tar:\n",
    "        tar.extractall(\"data/\")\n",
    "    with zipfile.ZipFile(\"data/train_triplets.txt.zip\", \"r\") as zip:\n",
    "        zip.extractall(\"data/\")\n",
    "    with zipfile.ZipFile(\"data/thisismyjam-datadump.zip\", \"r\") as zip:\n",
    "        zip.extractall(\"data/\")\n",
    "    \n",
    "    # Delete the zip files\n",
    "    os.remove(\"data/millionsongsubset.tar.gz\")\n",
    "    os.remove(\"data/train_triplets.txt.zip\")\n",
    "    os.remove(\"data/thisismyjam-datadump.zip\")\n",
    "    \n",
    "    print(\"Done. All data uncompressed successfully.\")"
   ]
  },
  {
   "cell_type": "markdown",
   "metadata": {},
   "source": [
    "## Import data\n",
    "If you already have the song dataset ready as a pandas dataframe, then you can skip Cell 4 and start executing from Cell 5 to import your data. If you do not have a pandas dataframe containing your songs yet, you must run Cell 4 if you need to convert the HDF5 files in the MillionSong dataset into a pandas dataframe."
   ]
  },
  {
   "cell_type": "code",
   "execution_count": null,
   "metadata": {},
   "outputs": [],
   "source": [
    "# RUN !!ONLY!! THIS (AND NOT THE CELL BELOW) IF songs.csv DOES NOT EXIST in your data/ folder\n",
    "# This will take approximately 10 minutes for 10,000 records.\n",
    "rows = []\n",
    "\n",
    "for root, _, files in os.walk(INPUT_FILE_PATH):\n",
    "\tfor file in files:\n",
    "\t\th5_path = os.path.join(root, file)\n",
    "\t\ttry:\n",
    "\t\t\tsong_data = h5_to_dict(h5_path)\n",
    "\t\t\trows.append(song_data)\n",
    "\t\texcept Exception as e :\n",
    "\t\t\tprint(f\"Error loading file {file}: {e}\")\n",
    "\n",
    "df = pd.DataFrame(rows)\n",
    "df.to_csv(OUTPUT_CSV_PATH , index=False)\n",
    "\n",
    "print(f\"CSV created: {OUTPUT_CSV_PATH}\")"
   ]
  },
  {
   "cell_type": "code",
   "execution_count": 4,
   "metadata": {},
   "outputs": [
    {
     "data": {
      "text/html": [
       "<div>\n",
       "<style scoped>\n",
       "    .dataframe tbody tr th:only-of-type {\n",
       "        vertical-align: middle;\n",
       "    }\n",
       "\n",
       "    .dataframe tbody tr th {\n",
       "        vertical-align: top;\n",
       "    }\n",
       "\n",
       "    .dataframe thead th {\n",
       "        text-align: right;\n",
       "    }\n",
       "</style>\n",
       "<table border=\"1\" class=\"dataframe\">\n",
       "  <thead>\n",
       "    <tr style=\"text-align: right;\">\n",
       "      <th></th>\n",
       "      <th>analysis/songs/key</th>\n",
       "      <th>analysis/songs/mode</th>\n",
       "    </tr>\n",
       "  </thead>\n",
       "  <tbody>\n",
       "    <tr>\n",
       "      <th>0</th>\n",
       "      <td>1</td>\n",
       "      <td>0</td>\n",
       "    </tr>\n",
       "    <tr>\n",
       "      <th>1</th>\n",
       "      <td>6</td>\n",
       "      <td>0</td>\n",
       "    </tr>\n",
       "    <tr>\n",
       "      <th>2</th>\n",
       "      <td>8</td>\n",
       "      <td>1</td>\n",
       "    </tr>\n",
       "    <tr>\n",
       "      <th>3</th>\n",
       "      <td>0</td>\n",
       "      <td>1</td>\n",
       "    </tr>\n",
       "    <tr>\n",
       "      <th>4</th>\n",
       "      <td>2</td>\n",
       "      <td>1</td>\n",
       "    </tr>\n",
       "    <tr>\n",
       "      <th>5</th>\n",
       "      <td>5</td>\n",
       "      <td>1</td>\n",
       "    </tr>\n",
       "    <tr>\n",
       "      <th>6</th>\n",
       "      <td>1</td>\n",
       "      <td>1</td>\n",
       "    </tr>\n",
       "    <tr>\n",
       "      <th>7</th>\n",
       "      <td>4</td>\n",
       "      <td>0</td>\n",
       "    </tr>\n",
       "    <tr>\n",
       "      <th>8</th>\n",
       "      <td>4</td>\n",
       "      <td>1</td>\n",
       "    </tr>\n",
       "    <tr>\n",
       "      <th>9</th>\n",
       "      <td>7</td>\n",
       "      <td>0</td>\n",
       "    </tr>\n",
       "  </tbody>\n",
       "</table>\n",
       "</div>"
      ],
      "text/plain": [
       "   analysis/songs/key  analysis/songs/mode\n",
       "0                   1                    0\n",
       "1                   6                    0\n",
       "2                   8                    1\n",
       "3                   0                    1\n",
       "4                   2                    1\n",
       "5                   5                    1\n",
       "6                   1                    1\n",
       "7                   4                    0\n",
       "8                   4                    1\n",
       "9                   7                    0"
      ]
     },
     "execution_count": 4,
     "metadata": {},
     "output_type": "execute_result"
    }
   ],
   "source": [
    "# RUN !!ONLY!! THIS (AND NOT THE CELL ABOVE) IF songs.csv ALREADY EXISTS IN YOUR data/ folder\n",
    "df = pd.read_csv(\"data/songs.csv\")\n",
    "df[[\"analysis/songs/key\", \"analysis/songs/mode\"]].head(10)"
   ]
  },
  {
   "cell_type": "markdown",
   "metadata": {},
   "source": [
    "## Transform Taste Profile Subset\n",
    "\n",
    "In order to create vector embeddings for our tracks, we will have to first transform the taste profile subset such that it contains the top 5 tracks of each user."
   ]
  },
  {
   "cell_type": "code",
   "execution_count": null,
   "metadata": {},
   "outputs": [
    {
     "ename": "KeyError",
     "evalue": "'user_id'",
     "output_type": "error",
     "traceback": [
      "\u001b[1;31m---------------------------------------------------------------------------\u001b[0m",
      "\u001b[1;31mKeyError\u001b[0m                                  Traceback (most recent call last)",
      "\u001b[1;32m~\\AppData\\Local\\Temp\\ipykernel_6980\\785494606.py\u001b[0m in \u001b[0;36m?\u001b[1;34m()\u001b[0m\n\u001b[0;32m      1\u001b[0m \u001b[1;31m# Reshape Taste Profile subset\u001b[0m\u001b[1;33m\u001b[0m\u001b[1;33m\u001b[0m\u001b[0m\n\u001b[0;32m      2\u001b[0m \u001b[1;31m# temp_df = pd.read_csv(\"data/train_triplets.txt\", delimiter=\"\\t\", names=[\"user_id\", \"song_id\", \"play_count\"])\u001b[0m\u001b[1;33m\u001b[0m\u001b[1;33m\u001b[0m\u001b[0m\n\u001b[0;32m      3\u001b[0m \u001b[1;31m# temp_df\u001b[0m\u001b[1;33m\u001b[0m\u001b[1;33m\u001b[0m\u001b[0m\n\u001b[1;32m----> 4\u001b[1;33m \u001b[0mtemp_df\u001b[0m \u001b[1;33m=\u001b[0m \u001b[0mdf\u001b[0m\u001b[1;33m.\u001b[0m\u001b[0msort_values\u001b[0m\u001b[1;33m(\u001b[0m\u001b[0mby\u001b[0m\u001b[1;33m=\u001b[0m\u001b[1;33m[\u001b[0m\u001b[1;34m\"user_id\"\u001b[0m\u001b[1;33m,\u001b[0m \u001b[1;34m\"play_count\"\u001b[0m\u001b[1;33m]\u001b[0m\u001b[1;33m,\u001b[0m \u001b[0mascending\u001b[0m\u001b[1;33m=\u001b[0m\u001b[1;33m[\u001b[0m\u001b[1;32mTrue\u001b[0m\u001b[1;33m,\u001b[0m \u001b[1;32mFalse\u001b[0m\u001b[1;33m]\u001b[0m\u001b[1;33m)\u001b[0m\u001b[1;33m\u001b[0m\u001b[1;33m\u001b[0m\u001b[0m\n\u001b[0m\u001b[0;32m      5\u001b[0m \u001b[1;33m\u001b[0m\u001b[0m\n\u001b[0;32m      6\u001b[0m \u001b[1;31m# top_songs = temp_df.groupby(\"user_id\").head(5)\u001b[0m\u001b[1;33m\u001b[0m\u001b[1;33m\u001b[0m\u001b[0m\n\u001b[0;32m      7\u001b[0m \u001b[1;31m# result = top_songs.groupby(\"user_id\")[\"song_id\"].apply(list).reset_index()\u001b[0m\u001b[1;33m\u001b[0m\u001b[1;33m\u001b[0m\u001b[0m\n",
      "\u001b[1;32mc:\\Users\\Trevis Liu\\AppData\\Local\\Programs\\Python\\Python312\\Lib\\site-packages\\pandas\\core\\frame.py\u001b[0m in \u001b[0;36m?\u001b[1;34m(self, by, axis, ascending, inplace, kind, na_position, ignore_index, key)\u001b[0m\n\u001b[0;32m   7168\u001b[0m                 \u001b[1;33mf\"\u001b[0m\u001b[1;33mLength of ascending (\u001b[0m\u001b[1;33m{\u001b[0m\u001b[0mlen\u001b[0m\u001b[1;33m(\u001b[0m\u001b[0mascending\u001b[0m\u001b[1;33m)\u001b[0m\u001b[1;33m}\u001b[0m\u001b[1;33m)\u001b[0m\u001b[1;33m\"\u001b[0m  \u001b[1;31m# type: ignore[arg-type]\u001b[0m\u001b[1;33m\u001b[0m\u001b[1;33m\u001b[0m\u001b[0m\n\u001b[0;32m   7169\u001b[0m                 \u001b[1;33mf\"\u001b[0m\u001b[1;33m != length of by (\u001b[0m\u001b[1;33m{\u001b[0m\u001b[0mlen\u001b[0m\u001b[1;33m(\u001b[0m\u001b[0mby\u001b[0m\u001b[1;33m)\u001b[0m\u001b[1;33m}\u001b[0m\u001b[1;33m)\u001b[0m\u001b[1;33m\"\u001b[0m\u001b[1;33m\u001b[0m\u001b[1;33m\u001b[0m\u001b[0m\n\u001b[0;32m   7170\u001b[0m             \u001b[1;33m)\u001b[0m\u001b[1;33m\u001b[0m\u001b[1;33m\u001b[0m\u001b[0m\n\u001b[0;32m   7171\u001b[0m         \u001b[1;32mif\u001b[0m \u001b[0mlen\u001b[0m\u001b[1;33m(\u001b[0m\u001b[0mby\u001b[0m\u001b[1;33m)\u001b[0m \u001b[1;33m>\u001b[0m \u001b[1;36m1\u001b[0m\u001b[1;33m:\u001b[0m\u001b[1;33m\u001b[0m\u001b[1;33m\u001b[0m\u001b[0m\n\u001b[1;32m-> 7172\u001b[1;33m             \u001b[0mkeys\u001b[0m \u001b[1;33m=\u001b[0m \u001b[1;33m[\u001b[0m\u001b[0mself\u001b[0m\u001b[1;33m.\u001b[0m\u001b[0m_get_label_or_level_values\u001b[0m\u001b[1;33m(\u001b[0m\u001b[0mx\u001b[0m\u001b[1;33m,\u001b[0m \u001b[0maxis\u001b[0m\u001b[1;33m=\u001b[0m\u001b[0maxis\u001b[0m\u001b[1;33m)\u001b[0m \u001b[1;32mfor\u001b[0m \u001b[0mx\u001b[0m \u001b[1;32min\u001b[0m \u001b[0mby\u001b[0m\u001b[1;33m]\u001b[0m\u001b[1;33m\u001b[0m\u001b[1;33m\u001b[0m\u001b[0m\n\u001b[0m\u001b[0;32m   7173\u001b[0m \u001b[1;33m\u001b[0m\u001b[0m\n\u001b[0;32m   7174\u001b[0m             \u001b[1;31m# need to rewrap columns in Series to apply key function\u001b[0m\u001b[1;33m\u001b[0m\u001b[1;33m\u001b[0m\u001b[0m\n\u001b[0;32m   7175\u001b[0m             \u001b[1;32mif\u001b[0m \u001b[0mkey\u001b[0m \u001b[1;32mis\u001b[0m \u001b[1;32mnot\u001b[0m \u001b[1;32mNone\u001b[0m\u001b[1;33m:\u001b[0m\u001b[1;33m\u001b[0m\u001b[1;33m\u001b[0m\u001b[0m\n",
      "\u001b[1;32mc:\\Users\\Trevis Liu\\AppData\\Local\\Programs\\Python\\Python312\\Lib\\site-packages\\pandas\\core\\generic.py\u001b[0m in \u001b[0;36m?\u001b[1;34m(self, key, axis)\u001b[0m\n\u001b[0;32m   1907\u001b[0m             \u001b[0mvalues\u001b[0m \u001b[1;33m=\u001b[0m \u001b[0mself\u001b[0m\u001b[1;33m.\u001b[0m\u001b[0mxs\u001b[0m\u001b[1;33m(\u001b[0m\u001b[0mkey\u001b[0m\u001b[1;33m,\u001b[0m \u001b[0maxis\u001b[0m\u001b[1;33m=\u001b[0m\u001b[0mother_axes\u001b[0m\u001b[1;33m[\u001b[0m\u001b[1;36m0\u001b[0m\u001b[1;33m]\u001b[0m\u001b[1;33m)\u001b[0m\u001b[1;33m.\u001b[0m\u001b[0m_values\u001b[0m\u001b[1;33m\u001b[0m\u001b[1;33m\u001b[0m\u001b[0m\n\u001b[0;32m   1908\u001b[0m         \u001b[1;32melif\u001b[0m \u001b[0mself\u001b[0m\u001b[1;33m.\u001b[0m\u001b[0m_is_level_reference\u001b[0m\u001b[1;33m(\u001b[0m\u001b[0mkey\u001b[0m\u001b[1;33m,\u001b[0m \u001b[0maxis\u001b[0m\u001b[1;33m=\u001b[0m\u001b[0maxis\u001b[0m\u001b[1;33m)\u001b[0m\u001b[1;33m:\u001b[0m\u001b[1;33m\u001b[0m\u001b[1;33m\u001b[0m\u001b[0m\n\u001b[0;32m   1909\u001b[0m             \u001b[0mvalues\u001b[0m \u001b[1;33m=\u001b[0m \u001b[0mself\u001b[0m\u001b[1;33m.\u001b[0m\u001b[0maxes\u001b[0m\u001b[1;33m[\u001b[0m\u001b[0maxis\u001b[0m\u001b[1;33m]\u001b[0m\u001b[1;33m.\u001b[0m\u001b[0mget_level_values\u001b[0m\u001b[1;33m(\u001b[0m\u001b[0mkey\u001b[0m\u001b[1;33m)\u001b[0m\u001b[1;33m.\u001b[0m\u001b[0m_values\u001b[0m\u001b[1;33m\u001b[0m\u001b[1;33m\u001b[0m\u001b[0m\n\u001b[0;32m   1910\u001b[0m         \u001b[1;32melse\u001b[0m\u001b[1;33m:\u001b[0m\u001b[1;33m\u001b[0m\u001b[1;33m\u001b[0m\u001b[0m\n\u001b[1;32m-> 1911\u001b[1;33m             \u001b[1;32mraise\u001b[0m \u001b[0mKeyError\u001b[0m\u001b[1;33m(\u001b[0m\u001b[0mkey\u001b[0m\u001b[1;33m)\u001b[0m\u001b[1;33m\u001b[0m\u001b[1;33m\u001b[0m\u001b[0m\n\u001b[0m\u001b[0;32m   1912\u001b[0m \u001b[1;33m\u001b[0m\u001b[0m\n\u001b[0;32m   1913\u001b[0m         \u001b[1;31m# Check for duplicates\u001b[0m\u001b[1;33m\u001b[0m\u001b[1;33m\u001b[0m\u001b[0m\n\u001b[0;32m   1914\u001b[0m         \u001b[1;32mif\u001b[0m \u001b[0mvalues\u001b[0m\u001b[1;33m.\u001b[0m\u001b[0mndim\u001b[0m \u001b[1;33m>\u001b[0m \u001b[1;36m1\u001b[0m\u001b[1;33m:\u001b[0m\u001b[1;33m\u001b[0m\u001b[1;33m\u001b[0m\u001b[0m\n",
      "\u001b[1;31mKeyError\u001b[0m: 'user_id'"
     ]
    }
   ],
   "source": [
    "# Reshape Taste Profile subset \n",
    "temp_df = pd.read_csv(\"data/train_triplets.txt\", delimiter=\"\\t\", names=[\"user_id\", \"song_id\", \"play_count\"])\n",
    "temp_df = temp_df.sort_values(by=[\"user_id\", \"play_count\"], ascending=[True, False])\n",
    "\n",
    "top_songs = temp_df.groupby(\"user_id\").head(5)\n",
    "result = top_songs.groupby(\"user_id\")[\"song_id\"].apply(list).reset_index()\n",
    "result.columns = [\"User\", \"Top 5 Tracks\"]\n",
    "\n",
    "result.to_csv(\"data/taste_profile.csv\", index=False)"
   ]
  },
  {
   "cell_type": "markdown",
   "metadata": {},
   "source": [
    "# Some basics in pandas and numpy\n",
    "\n",
    "Reshaping matrices or arrays allows you to modify its dimensions.\n",
    "\n",
    "If you need to produce a dataframe with only one feature then the best way to do it is `df[[\"feature\"]]`. You can also use the same method to generate a dataframe with a subset of its original columns. Simply enter the columns you wish to select in the list like `df[[\"feature_1\", \"feature_2\"]]`. The numpy equivalent of this is `np.reshape(df, (-1, 1))`. However, the disadvantage of using numpy is that the feature's names are not preserved."
   ]
  },
  {
   "cell_type": "code",
   "execution_count": 162,
   "metadata": {},
   "outputs": [
    {
     "name": "stdout",
     "output_type": "stream",
     "text": [
      "Index(['analysis/bars_confidence', 'analysis/bars_start',\n",
      "       'analysis/beats_confidence', 'analysis/beats_start',\n",
      "       'analysis/sections_confidence', 'analysis/sections_start',\n",
      "       'analysis/segments_confidence', 'analysis/segments_loudness_max',\n",
      "       'analysis/segments_loudness_max_time',\n",
      "       'analysis/segments_loudness_start', 'analysis/segments_pitches',\n",
      "       'analysis/segments_start', 'analysis/segments_timbre',\n",
      "       'analysis/songs/analysis_sample_rate',\n",
      "       'analysis/songs/idx_sections_confidence',\n",
      "       'analysis/songs/idx_sections_start',\n",
      "       'analysis/songs/idx_segments_confidence',\n",
      "       'analysis/songs/idx_segments_loudness_max',\n",
      "       'analysis/songs/idx_segments_loudness_max_time',\n",
      "       'analysis/songs/idx_segments_loudness_start',\n",
      "       'analysis/songs/idx_segments_pitches',\n",
      "       'analysis/songs/idx_segments_start',\n",
      "       'analysis/songs/idx_segments_timbre',\n",
      "       'analysis/songs/idx_tatums_confidence', 'analysis/songs/audio_md5',\n",
      "       'analysis/songs/idx_tatums_start', 'analysis/songs/key',\n",
      "       'analysis/songs/key_confidence', 'analysis/songs/loudness',\n",
      "       'analysis/songs/mode', 'analysis/songs/mode_confidence',\n",
      "       'analysis/songs/start_of_fade_out', 'analysis/songs/tempo',\n",
      "       'analysis/songs/time_signature',\n",
      "       'analysis/songs/time_signature_confidence',\n",
      "       'analysis/songs/danceability', 'analysis/songs/track_id',\n",
      "       'analysis/songs/duration', 'analysis/songs/end_of_fade_in',\n",
      "       'analysis/songs/energy', 'analysis/songs/idx_bars_confidence',\n",
      "       'analysis/songs/idx_bars_start', 'analysis/songs/idx_beats_confidence',\n",
      "       'analysis/songs/idx_beats_start', 'analysis/tatums_confidence',\n",
      "       'analysis/tatums_start', 'metadata/artist_terms',\n",
      "       'metadata/artist_terms_freq', 'metadata/artist_terms_weight',\n",
      "       'metadata/similar_artists', 'metadata/songs/analyzer_version',\n",
      "       'metadata/songs/artist_playmeid', 'metadata/songs/genre',\n",
      "       'metadata/songs/idx_artist_terms', 'metadata/songs/idx_similar_artists',\n",
      "       'metadata/songs/release', 'metadata/songs/release_7digitalid',\n",
      "       'metadata/songs/song_hotttnesss', 'metadata/songs/song_id',\n",
      "       'metadata/songs/title', 'metadata/songs/track_7digitalid',\n",
      "       'metadata/songs/artist_7digitalid', 'metadata/songs/artist_familiarity',\n",
      "       'metadata/songs/artist_hotttnesss', 'metadata/songs/artist_id',\n",
      "       'metadata/songs/artist_latitude', 'metadata/songs/artist_location',\n",
      "       'metadata/songs/artist_longitude', 'metadata/songs/artist_mbid',\n",
      "       'metadata/songs/artist_name', 'musicbrainz/artist_mbtags',\n",
      "       'musicbrainz/artist_mbtags_count',\n",
      "       'musicbrainz/songs/idx_artist_mbtags', 'musicbrainz/songs/year'],\n",
      "      dtype='object')\n"
     ]
    }
   ],
   "source": [
    "print(df.columns)"
   ]
  },
  {
   "cell_type": "code",
   "execution_count": 163,
   "metadata": {},
   "outputs": [
    {
     "data": {
      "text/plain": [
       "(array([  28.,  104.,  533., 2787., 2925., 1970., 1091.,  429.,  105.,\n",
       "          28.]),\n",
       " array([-3.49363792, -2.7465993 , -1.99956068, -1.25252207, -0.50548345,\n",
       "         0.24155516,  0.98859378,  1.73563239,  2.48267101,  3.22970962,\n",
       "         3.97674824]),\n",
       " <BarContainer object of 10 artists>)"
      ]
     },
     "execution_count": 163,
     "metadata": {},
     "output_type": "execute_result"
    },
    {
     "data": {
      "image/png": "[encoded data removed]",
      "text/plain": [
       "<Figure size 640x480 with 1 Axes>"
      ]
     },
     "metadata": {},
     "output_type": "display_data"
    }
   ],
   "source": [
    "plt.hist(df[\"analysis/songs/tempo\"])"
   ]
  },
  {
   "cell_type": "code",
   "execution_count": 164,
   "metadata": {},
   "outputs": [
    {
     "data": {
      "text/plain": [
       "(array([2.000e+00, 3.000e+00, 1.100e+01, 3.700e+01, 1.380e+02, 3.750e+02,\n",
       "        1.095e+03, 2.936e+03, 4.560e+03, 8.430e+02]),\n",
       " array([-7.6224081 , -6.6554885 , -5.6885689 , -4.7216493 , -3.7547297 ,\n",
       "        -2.78781011, -1.82089051, -0.85397091,  0.11294869,  1.07986829,\n",
       "         2.04678788]),\n",
       " <BarContainer object of 10 artists>)"
      ]
     },
     "execution_count": 164,
     "metadata": {},
     "output_type": "execute_result"
    },
    {
     "data": {
      "image/png": "[encoded data removed]",
      "text/plain": [
       "<Figure size 640x480 with 1 Axes>"
      ]
     },
     "metadata": {},
     "output_type": "display_data"
    }
   ],
   "source": [
    "plt.hist(df[\"analysis/songs/loudness\"])"
   ]
  },
  {
   "cell_type": "markdown",
   "metadata": {},
   "source": [
    "## Key\n",
    "The key of the song where 0 represents C, 1 represents D and so on.\n",
    "\n",
    "[Ref.](https://stackoverflow.com/questions/32202589/pyechonest-how-to-interpret-key-and-mode-attributes)"
   ]
  },
  {
   "cell_type": "code",
   "execution_count": 165,
   "metadata": {},
   "outputs": [
    {
     "data": {
      "text/plain": [
       "(array([2034., 1129.,  310.,  810.,  795.,  577., 1339.,  528., 1040.,\n",
       "        1438.]),\n",
       " array([ 0. ,  1.1,  2.2,  3.3,  4.4,  5.5,  6.6,  7.7,  8.8,  9.9, 11. ]),\n",
       " <BarContainer object of 10 artists>)"
      ]
     },
     "execution_count": 165,
     "metadata": {},
     "output_type": "execute_result"
    },
    {
     "data": {
      "image/png": "[encoded data removed]",
      "text/plain": [
       "<Figure size 640x480 with 1 Axes>"
      ]
     },
     "metadata": {},
     "output_type": "display_data"
    }
   ],
   "source": [
    "plt.hist(df[\"analysis/songs/key\"])"
   ]
  },
  {
   "cell_type": "code",
   "execution_count": 166,
   "metadata": {},
   "outputs": [
    {
     "data": {
      "text/plain": [
       "(array([2.823e+03, 6.313e+03, 7.020e+02, 1.000e+02, 2.800e+01, 1.600e+01,\n",
       "        8.000e+00, 4.000e+00, 3.000e+00, 3.000e+00]),\n",
       " array([-2.08060387, -0.48707502,  1.10645384,  2.69998269,  4.29351155,\n",
       "         5.8870404 ,  7.48056926,  9.07409811, 10.66762697, 12.26115582,\n",
       "        13.85468468]),\n",
       " <BarContainer object of 10 artists>)"
      ]
     },
     "execution_count": 166,
     "metadata": {},
     "output_type": "execute_result"
    },
    {
     "data": {
      "image/png": "[encoded data removed]",
      "text/plain": [
       "<Figure size 640x480 with 1 Axes>"
      ]
     },
     "metadata": {},
     "output_type": "display_data"
    }
   ],
   "source": [
    "plt.hist(df[\"analysis/songs/duration\"])"
   ]
  },
  {
   "cell_type": "markdown",
   "metadata": {},
   "source": [
    "## Mode\n",
    "Indicates if the track is in the major key or minor key. In other words, a track is said to be in C Major if its key is 0 and its mode is 1.\n",
    "\n",
    "[Ref.](https://stackoverflow.com/questions/32202589/pyechonest-how-to-interpret-key-and-mode-attributes)"
   ]
  },
  {
   "cell_type": "code",
   "execution_count": 167,
   "metadata": {},
   "outputs": [
    {
     "data": {
      "text/plain": [
       "(array([3089.,    0.,    0.,    0.,    0.,    0.,    0.,    0.,    0.,\n",
       "        6911.]),\n",
       " array([0. , 0.1, 0.2, 0.3, 0.4, 0.5, 0.6, 0.7, 0.8, 0.9, 1. ]),\n",
       " <BarContainer object of 10 artists>)"
      ]
     },
     "execution_count": 167,
     "metadata": {},
     "output_type": "execute_result"
    },
    {
     "data": {
      "image/png": "[encoded data removed]",
      "text/plain": [
       "<Figure size 640x480 with 1 Axes>"
      ]
     },
     "metadata": {},
     "output_type": "display_data"
    }
   ],
   "source": [
    "plt.hist(df[\"analysis/songs/mode\"])"
   ]
  },
  {
   "cell_type": "code",
   "execution_count": 168,
   "metadata": {},
   "outputs": [
    {
     "data": {
      "text/plain": [
       "(array([3.000e+00, 1.498e+03, 0.000e+00, 0.000e+00, 1.278e+03, 6.351e+03,\n",
       "        0.000e+00, 5.890e+02, 0.000e+00, 2.810e+02]),\n",
       " array([0. , 0.7, 1.4, 2.1, 2.8, 3.5, 4.2, 4.9, 5.6, 6.3, 7. ]),\n",
       " <BarContainer object of 10 artists>)"
      ]
     },
     "execution_count": 168,
     "metadata": {},
     "output_type": "execute_result"
    },
    {
     "data": {
      "image/png": "[encoded data removed]",
      "text/plain": [
       "<Figure size 640x480 with 1 Axes>"
      ]
     },
     "metadata": {},
     "output_type": "display_data"
    }
   ],
   "source": [
    "plt.hist(df[\"analysis/songs/time_signature\"])"
   ]
  },
  {
   "cell_type": "markdown",
   "metadata": {},
   "source": [
    "## One Hot Encoding\n",
    "As it currently stands, some categorical features exist in numerical formats which can cause the model to infer incorrect relationships. Taking key as an example, the model should not assume that there is some kind of increasing relationship from one key to the next but rather treat each key individually as separate features. Making multiple features for each key can be computationally expensive which is why we opt to create one-hot-encodings instead.\n",
    "\n",
    "[Learn more](https://developers.google.com/machine-learning/crash-course/categorical-data/one-hot-encoding)"
   ]
  },
  {
   "cell_type": "code",
   "execution_count": 169,
   "metadata": {},
   "outputs": [],
   "source": [
    "# Create one-hot encoding vectors\n",
    "encoder = OneHotEncoder(sparse_output=False)\n",
    "encoder.set_output(transform=\"pandas\")\n",
    "\n",
    "df_encoded_keys = encoder.fit_transform(df[[\"analysis/songs/key\"]])\n",
    "df_encoded_mode = encoder.fit_transform(df[[\"analysis/songs/mode\"]])\n",
    "\n",
    "df = pd.concat([df, df_encoded_keys, df_encoded_mode], axis=1)"
   ]
  },
  {
   "cell_type": "markdown",
   "metadata": {},
   "source": [
    "## Normalization\n",
    "\n",
    "Some features need to be normalized to a common range to improve the model. Most features with an even distribution will be normalized using the Standard Scaler (Z-score distribution).\n",
    "\n",
    "[Learn more](https://developers.google.com/machine-learning/crash-course/numerical-data/normalization)"
   ]
  },
  {
   "cell_type": "code",
   "execution_count": 174,
   "metadata": {},
   "outputs": [],
   "source": [
    "# Apply the StandardScaler to normalize datapoints in the tempo column using Z-score distribution\n",
    "scaler = StandardScaler()\n",
    "\n",
    "df[\"analysis/songs/tempo\"] = scaler.fit_transform(df[[\"analysis/songs/tempo\"]])\n",
    "df[\"analysis/songs/loudness\"] = scaler.fit_transform(df[[\"analysis/songs/loudness\"]])\n",
    "df[\"analysis/songs/duration\"] = scaler.fit_transform(df[[\"analysis/songs/duration\"]])"
   ]
  },
  {
   "cell_type": "code",
   "execution_count": 175,
   "metadata": {},
   "outputs": [
    {
     "data": {
      "text/plain": [
       "(array([  28.,  104.,  533., 2787., 2925., 1970., 1091.,  429.,  105.,\n",
       "          28.]),\n",
       " array([-3.49363792, -2.7465993 , -1.99956068, -1.25252207, -0.50548345,\n",
       "         0.24155516,  0.98859378,  1.73563239,  2.48267101,  3.22970962,\n",
       "         3.97674824]),\n",
       " <BarContainer object of 10 artists>)"
      ]
     },
     "execution_count": 175,
     "metadata": {},
     "output_type": "execute_result"
    },
    {
     "data": {
      "image/png": "[encoded data removed]",
      "text/plain": [
       "<Figure size 640x480 with 1 Axes>"
      ]
     },
     "metadata": {},
     "output_type": "display_data"
    }
   ],
   "source": [
    "plt.hist(df[\"analysis/songs/tempo\"])"
   ]
  },
  {
   "cell_type": "code",
   "execution_count": 172,
   "metadata": {},
   "outputs": [
    {
     "data": {
      "text/plain": [
       "(array([2.000e+00, 3.000e+00, 1.100e+01, 3.700e+01, 1.380e+02, 3.750e+02,\n",
       "        1.095e+03, 2.936e+03, 4.560e+03, 8.430e+02]),\n",
       " array([-7.6224081 , -6.6554885 , -5.6885689 , -4.7216493 , -3.7547297 ,\n",
       "        -2.78781011, -1.82089051, -0.85397091,  0.11294869,  1.07986829,\n",
       "         2.04678788]),\n",
       " <BarContainer object of 10 artists>)"
      ]
     },
     "execution_count": 172,
     "metadata": {},
     "output_type": "execute_result"
    },
    {
     "data": {
      "image/png": "[encoded data removed]",
      "text/plain": [
       "<Figure size 640x480 with 1 Axes>"
      ]
     },
     "metadata": {},
     "output_type": "display_data"
    }
   ],
   "source": [
    "plt.hist(df[\"analysis/songs/loudness\"])"
   ]
  },
  {
   "cell_type": "code",
   "execution_count": 173,
   "metadata": {},
   "outputs": [
    {
     "data": {
      "text/plain": [
       "(array([2.823e+03, 6.313e+03, 7.020e+02, 1.000e+02, 2.800e+01, 1.600e+01,\n",
       "        8.000e+00, 4.000e+00, 3.000e+00, 3.000e+00]),\n",
       " array([-2.08060387, -0.48707502,  1.10645384,  2.69998269,  4.29351155,\n",
       "         5.8870404 ,  7.48056926,  9.07409811, 10.66762697, 12.26115582,\n",
       "        13.85468468]),\n",
       " <BarContainer object of 10 artists>)"
      ]
     },
     "execution_count": 173,
     "metadata": {},
     "output_type": "execute_result"
    },
    {
     "data": {
      "image/png": "[encoded data removed]",
      "text/plain": [
       "<Figure size 640x480 with 1 Axes>"
      ]
     },
     "metadata": {},
     "output_type": "display_data"
    }
   ],
   "source": [
    "plt.hist(df[\"analysis/songs/duration\"])"
   ]
  },
  {
   "cell_type": "code",
   "execution_count": null,
   "metadata": {},
   "outputs": [],
   "source": [
    "import torch.nn as nn\n",
    "\n",
    "embedding = nn.Embedding()"
   ]
  }
 ],
 "metadata": {
  "kernelspec": {
   "display_name": "Python 3",
   "language": "python",
   "name": "python3"
  },
  "language_info": {
   "codemirror_mode": {
    "name": "ipython",
    "version": 3
   },
   "file_extension": ".py",
   "mimetype": "text/x-python",
   "name": "python",
   "nbconvert_exporter": "python",
   "pygments_lexer": "ipython3",
   "version": "3.12.1"
  }
 },
 "nbformat": 4,
 "nbformat_minor": 2
}
