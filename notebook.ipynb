{
 "cells": [
  {
   "cell_type": "code",
   "execution_count": 2,
   "metadata": {},
   "outputs": [],
   "source": [
    "import pandas as pd\n",
    "import os\n",
    "\n",
    "from utils.converter import extract_file"
   ]
  },
  {
   "cell_type": "code",
   "execution_count": 3,
   "metadata": {},
   "outputs": [],
   "source": [
    "OUTPUT_CSV_PATH = \"data/songs.csv\"\n",
    "INPUT_FILE_PATH = \"data/MillionSongSubset\""
   ]
  },
  {
   "cell_type": "code",
   "execution_count": 4,
   "metadata": {},
   "outputs": [
    {
     "name": "stdout",
     "output_type": "stream",
     "text": [
      "CSV created: data/songs.csv\n"
     ]
    }
   ],
   "source": [
    "rows = []\n",
    "\n",
    "for root, _, files in os.walk(INPUT_FILE_PATH):\n",
    "\tfor file in files:\n",
    "\t\th5_path = os.path.join(root, file)\n",
    "\t\ttry:\n",
    "\t\t\tsong_data = extract_file(h5_path)\n",
    "\t\t\trows.append(song_data)\n",
    "\t\texcept Exception as e :\n",
    "\t\t\tprint(f\"Error loading file {file}: {e}\")\n",
    "\n",
    "df = pd.DataFrame(rows)\n",
    "df.to_csv(OUTPUT_CSV_PATH , index=False)\n",
    "\n",
    "print(f\"CSV created: {OUTPUT_CSV_PATH}\")"
   ]
  },
  {
   "cell_type": "code",
   "execution_count": 5,
   "metadata": {},
   "outputs": [
    {
     "name": "stdout",
     "output_type": "stream",
     "text": [
      "                            artist_mbid artist_mbtags  ...            track_id year\n",
      "0  e77e51a5-4761-45b3-9847-2051f811e366            []  ...  TRAAAAW128F429D538    0\n",
      "\n",
      "[1 rows x 30 columns]\n"
     ]
    }
   ],
   "source": [
    "print(df.head(1))"
   ]
  }
 ],
 "metadata": {
  "kernelspec": {
   "display_name": "Python 3",
   "language": "python",
   "name": "python3"
  },
  "language_info": {
   "codemirror_mode": {
    "name": "ipython",
    "version": 3
   },
   "file_extension": ".py",
   "mimetype": "text/x-python",
   "name": "python",
   "nbconvert_exporter": "python",
   "pygments_lexer": "ipython3",
   "version": "3.12.1"
  }
 },
 "nbformat": 4,
 "nbformat_minor": 2
}
